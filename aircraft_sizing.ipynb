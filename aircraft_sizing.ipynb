{
 "cells": [
  {
   "cell_type": "markdown",
   "metadata": {},
   "source": [
    "# Fixed Wing Electric sUAS Sizing \n",
    "By Matthew Capece\n",
    "\n",
    "Based on Lecture Notes of Dr. Mark Maughmer"
   ]
  },
  {
   "cell_type": "markdown",
   "metadata": {},
   "source": [
    "### Setup"
   ]
  },
  {
   "cell_type": "markdown",
   "metadata": {},
   "source": [
    "##### Imports"
   ]
  },
  {
   "cell_type": "code",
   "execution_count": 284,
   "metadata": {},
   "outputs": [],
   "source": [
    "import numpy as np\n",
    "import matplotlib.pyplot as plt\n",
    "from scipy.optimize import fsolve"
   ]
  },
  {
   "cell_type": "markdown",
   "metadata": {},
   "source": [
    "##### Constants"
   ]
  },
  {
   "cell_type": "code",
   "execution_count": 285,
   "metadata": {},
   "outputs": [],
   "source": [
    "# Physical Constants\n",
    "gravity = 9.80665               # m/s^2\n",
    "gear_rolling_friction = .15     # rolling friction coefficient for landing gear on pavement \n",
    "\n",
    "# Standard Sea Level Atmosphere\n",
    "density = 1.225                 # kg/m^3\n",
    "temp_C = 15                     # C\n",
    "temp_K = 288.2                  # K\n",
    "pressure = 101325               # Pa\n",
    "speed_of_sound = 340.3          # m/s\n",
    "dynamic_viscosity = 1.789e-5    # kg/m/s\n",
    "kinematic_viscosity = 1.460e-5  # m^2/s\n",
    "gas_constant = 287.1            # J/kg/K\n",
    "temp_lapse_rate = 0.0065        # K/m\n",
    "molar_mass = 0.0289652          # kg/mol\n",
    "ratio_of_specific_heats = 1.4   # unitless"
   ]
  },
  {
   "cell_type": "markdown",
   "metadata": {},
   "source": [
    "### Mission Requirements"
   ]
  },
  {
   "cell_type": "code",
   "execution_count": 286,
   "metadata": {},
   "outputs": [],
   "source": [
    "# Performance Requirements\n",
    "range = 29              # km\n",
    "endurance = 30          # min\n",
    "m_payload = 2.7         # kg, payload mass (not required to fly)\n",
    "v_stall = 12            # m/s, stall speed\n",
    "v_cruise = 18           # m/s, cruise speed\n",
    "v_touchdown = 14        # m/s, landing touchdown speed \n",
    "dist_to_roll = 20       # m\n",
    "dist_land_roll = 60     # m\n",
    "time_land_roll = 5      # s                                                           I DONT KNOW IF THIS IS CORRECT???\n",
    "radius_turn = 30        # m\n",
    "angle_climb_min = 20    # deg\n",
    "angle_descent_min = 20  # deg\n",
    "\n",
    "# Size Requirements\n",
    "m_to_max = 25           # kg, takeoff (total) mass\n",
    "span_max = 2.5          # m\n",
    "\n",
    "# Calculations\n",
    "dynamic_pressure_cruise = 1/2 * density * v_cruise**2\n",
    "dynamic_pressure_stall = 1/2 * density * v_stall**2\n",
    "dynamic_pressure_touchdown = 1/2 * density * v_touchdown**2\n",
    "bank_angle_max_rad = np.arctan(v_cruise**2/ (gravity * radius_turn))  # Max bank angle required for a sustained level turn with specified truning radius\n",
    "bank_angle_max_deg = bank_angle_max_rad * 180 / np.pi\n",
    "bank_load_factor_max = 1 / np.cos(bank_angle_max_rad)                 # Lift load factor at max bank angle \n",
    "touchdown_speed_ratio = v_touchdown / v_stall                         # Ratio of touchdown speed over stall speed (j)"
   ]
  },
  {
   "cell_type": "markdown",
   "metadata": {},
   "source": [
    "### Initial Estimates"
   ]
  },
  {
   "cell_type": "markdown",
   "metadata": {},
   "source": [
    "##### Initial Size Estimates"
   ]
  },
  {
   "cell_type": "code",
   "execution_count": 287,
   "metadata": {},
   "outputs": [],
   "source": [
    "# Based on experience and knowledge of similar aircraft\n",
    "chord_inital = .3  # m\n",
    "span_initial = 2   # m\n",
    "m_to_initial = 7   # kg\n",
    "e0_inital = .75    # Oswald Efficiency\n",
    "e_initial = .9     # Span Efficiency\n",
    "Cdo_initial = .02  # Parasite drag coefficient\n",
    "\n",
    "w_to_initial = gravity * m_to_initial \n",
    "wing_area_initial = chord_inital * span_initial  # Estimates wing area as a rectangular wing\n",
    "AR_initial = span_initial**2 / wing_area_initial\n"
   ]
  },
  {
   "cell_type": "markdown",
   "metadata": {},
   "source": [
    "##### Initial Reynold's # Estimation"
   ]
  },
  {
   "cell_type": "code",
   "execution_count": 288,
   "metadata": {},
   "outputs": [],
   "source": [
    "Re_cruise_inital = (density * v_cruise * chord_inital) / dynamic_viscosity\n",
    "Re_stall_inial = (density * v_stall * chord_inital) / dynamic_viscosity"
   ]
  },
  {
   "cell_type": "markdown",
   "metadata": {},
   "source": [
    "##### Initial Airfoil Selection"
   ]
  },
  {
   "cell_type": "code",
   "execution_count": 289,
   "metadata": {},
   "outputs": [],
   "source": [
    "# Airfoil: psu94097-il\n",
    "Cl_max = 1.2\n",
    "Cl_max_flaps = 1.6"
   ]
  },
  {
   "cell_type": "markdown",
   "metadata": {},
   "source": [
    "##### Initial Drag Estimates"
   ]
  },
  {
   "cell_type": "code",
   "execution_count": 290,
   "metadata": {},
   "outputs": [],
   "source": [
    "Cd_land_inital = Cdo_initial + Cl_max**2 / (np.pi * e0_inital * AR_initial)       # Estimated Drag Coefficient during landing\n",
    "D_land_initial = dynamic_pressure_touchdown * wing_area_initial * Cd_land_inital  # N, Estimated Drag during landing"
   ]
  },
  {
   "cell_type": "markdown",
   "metadata": {},
   "source": [
    "### Constraint Diagrams"
   ]
  },
  {
   "cell_type": "code",
   "execution_count": 291,
   "metadata": {},
   "outputs": [
    {
     "data": {
      "text/plain": [
       "<matplotlib.legend.Legend at 0x1944af80cd0>"
      ]
     },
     "execution_count": 291,
     "metadata": {},
     "output_type": "execute_result"
    },
    {
     "data": {
      "image/png": "[encoded data removed]",
      "text/plain": [
       "<Figure size 800x500 with 1 Axes>"
      ]
     },
     "metadata": {},
     "output_type": "display_data"
    }
   ],
   "source": [
    "# Data Range\n",
    "wing_loading_max = 150  # g/dm^2, Wing loading using mass (NOT WEIGHT)\n",
    "wing_loading_weight_max = wing_loading_max / 10 * gravity  # N/m^2, Wing Loading in terms of weight (NOT MASS) \n",
    "wing_loading_array = np.linspace(1, wing_loading_weight_max)  #g/dm^2, Plotted Wing Loading Range\n",
    "\n",
    "# Takeoff Calculation\n",
    "thrust_to_weight_to_array = wing_loading_array * [1.21 / (gravity * density * Cl_max_flaps * dist_to_roll)]  # Takeoff Curve WITH FLAPS\n",
    "\n",
    "# Landing Calculation\n",
    "def landing_ground_roll(wing_loading):\n",
    "    x = touchdown_speed_ratio * time_land_roll * (2/density * wing_loading / Cl_max_flaps)**.5 \\\n",
    "    + touchdown_speed_ratio**2 * wing_loading / (gravity * density * Cl_max_flaps * (D_land_initial / w_to_initial + gear_rolling_friction *(1-.2))) - dist_land_roll   # Assumed L\\W = .2\n",
    "    return x\n",
    "wing_loading_landing = fsolve(landing_ground_roll,20)  # Solves for wing_loading_landing\n",
    "\n",
    "# Climb/Descent?\n",
    "\n",
    "# Stall Speed Wingloading\n",
    "wing_loading_stall_inital = dynamic_pressure_stall * Cl_max_flaps   # Wingloading at stall WITH FLAPS\n",
    "\n",
    "# Sustained Turn Calculation\n",
    "k_initial = 1 / (e0_inital * np.pi * AR_initial)\n",
    "thrust_to_weight_bank_array = ((bank_load_factor_max * k_initial * wing_loading_array) / dynamic_pressure_cruise)**2 + dynamic_pressure_cruise * Cdo_initial / wing_loading_array  \n",
    "\n",
    "\n",
    "# Plot Constraints\n",
    "fig, ax = plt.subplots(figsize=(8,5))\n",
    "xlim = wing_loading_array[-1]\n",
    "ylim = 1\n",
    "ax.plot(wing_loading_array, thrust_to_weight_to_array, label='Takeoff (Flaps Down)')\n",
    "ax.plot(wing_loading_array, thrust_to_weight_bank_array, label='Sustained Turn')\n",
    "ax.vlines(wing_loading_stall_inital, 0, ylim, label = 'Stall', colors='purple')\n",
    "ax.vlines(wing_loading_landing[0], 0, ylim, label = 'Landing', colors='green')\n",
    "ax.set_xlim([0,xlim])\n",
    "ax.set_ylim([0,ylim])\n",
    "ax.set_title('Constraint Diagram')\n",
    "ax.set_xlabel('Wo/S (g/dm^2)')\n",
    "ax.set_ylabel('To/Wo')\n",
    "ax.grid()\n",
    "ax.legend(loc='upper right')"
   ]
  },
  {
   "cell_type": "markdown",
   "metadata": {},
   "source": [
    "### Stall Speed???"
   ]
  },
  {
   "cell_type": "markdown",
   "metadata": {},
   "source": [
    "### Initial Shape Estimates"
   ]
  },
  {
   "cell_type": "code",
   "execution_count": 292,
   "metadata": {},
   "outputs": [],
   "source": [
    "# Airfoil Selection\n",
    "# Wing Geometry\n",
    "# Tail Geometry\n",
    "# Power Plants\n",
    "# High Lift Devices"
   ]
  },
  {
   "cell_type": "markdown",
   "metadata": {},
   "source": [
    "### Battery Weight Estimate"
   ]
  },
  {
   "cell_type": "code",
   "execution_count": 293,
   "metadata": {},
   "outputs": [],
   "source": [
    "# Use Breguet Range Equation"
   ]
  },
  {
   "cell_type": "markdown",
   "metadata": {},
   "source": [
    "### L/D Estimate"
   ]
  },
  {
   "cell_type": "markdown",
   "metadata": {},
   "source": [
    "### Takeoff Weight Estimate"
   ]
  },
  {
   "cell_type": "markdown",
   "metadata": {},
   "source": [
    "### Preliminary Wing Design"
   ]
  },
  {
   "cell_type": "code",
   "execution_count": 294,
   "metadata": {},
   "outputs": [],
   "source": [
    "# Wing Area\n",
    "# Wing Loading\n",
    "# Plots\n",
    "# Choose Aspect Ratio"
   ]
  },
  {
   "cell_type": "markdown",
   "metadata": {},
   "source": [
    "### Tail Sizing"
   ]
  },
  {
   "cell_type": "markdown",
   "metadata": {},
   "source": [
    "### Performance Calculations"
   ]
  }
 ],
 "metadata": {
  "kernelspec": {
   "display_name": "Python 3.9.13 64-bit (microsoft store)",
   "language": "python",
   "name": "python3"
  },
  "language_info": {
   "codemirror_mode": {
    "name": "ipython",
    "version": 3
   },
   "file_extension": ".py",
   "mimetype": "text/x-python",
   "name": "python",
   "nbconvert_exporter": "python",
   "pygments_lexer": "ipython3",
   "version": "3.9.13"
  },
  "orig_nbformat": 4,
  "vscode": {
   "interpreter": {
    "hash": "e8a7d066176a6246d232a9f94543f89283a2fbccc0cf6a1e306e4595abcb2548"
   }
  }
 },
 "nbformat": 4,
 "nbformat_minor": 2
}
